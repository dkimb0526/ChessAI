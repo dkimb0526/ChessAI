{
 "cells": [
  {
   "cell_type": "code",
   "execution_count": 1,
   "metadata": {},
   "outputs": [
    {
     "name": "stdout",
     "output_type": "stream",
     "text": [
      "pygame 2.4.0 (SDL 2.26.4, Python 3.7.6)\n",
      "Hello from the pygame community. https://www.pygame.org/contribute.html\n"
     ]
    }
   ],
   "source": [
    "import chess\n",
    "import random\n",
    "from copy import deepcopy"
   ]
  },
  {
   "cell_type": "code",
   "execution_count": 1,
   "metadata": {},
   "outputs": [],
   "source": [
    "def random_agent(BOARD):\n",
    "    return random.choice(list(BOARD.legal_moves))"
   ]
  },
  {
   "cell_type": "code",
   "execution_count": 2,
   "metadata": {},
   "outputs": [],
   "source": [
    "scoring= {'p': -1,\n",
    "          'n': -3,\n",
    "          'b': -3,\n",
    "          'r': -5,\n",
    "          'q': -9,\n",
    "          'k': 0,\n",
    "          'P': 1,\n",
    "          'N': 3,\n",
    "          'B': 3,\n",
    "          'R': 5,\n",
    "          'Q': 9,\n",
    "          'K': 0,\n",
    "          }"
   ]
  },
  {
   "cell_type": "code",
   "execution_count": 3,
   "metadata": {},
   "outputs": [],
   "source": [
    "def eval_board(BOARD):\n",
    "    score = 0\n",
    "    pieces = BOARD.piece_map()\n",
    "    for key in pieces:\n",
    "        score += scoring[str(pieces[key])]\n",
    "\n",
    "    return score"
   ]
  },
  {
   "cell_type": "code",
   "execution_count": 4,
   "metadata": {},
   "outputs": [],
   "source": [
    "#this is min_max at depth one\n",
    "def most_value_agent(BOARD):\n",
    "\n",
    "    moves = list(BOARD.legal_moves)\n",
    "    scores = []\n",
    "    for move in moves:\n",
    "        #creates a copy of BOARD so we dont\n",
    "        #change the original class\n",
    "        temp = deepcopy(BOARD)\n",
    "        temp.push(move)\n",
    "\n",
    "        scores.append(eval_board(temp))\n",
    "\n",
    "    if BOARD.turn == True:\n",
    "        best_move = moves[scores.index(max(scores))]\n",
    "\n",
    "    else:\n",
    "        best_move = moves[scores.index(min(scores))]\n",
    "\n",
    "    return best_move"
   ]
  },
  {
   "cell_type": "code",
   "execution_count": 5,
   "metadata": {},
   "outputs": [],
   "source": [
    "def min_max2(BOARD):\n",
    "    moves = list(BOARD.legal_moves)\n",
    "    scores = []\n",
    "\n",
    "    for move in moves:\n",
    "        temp = deepcopy(BOARD)\n",
    "        temp.push(move)\n",
    "        temp_best_move = most_value_agent(temp)\n",
    "        temp.push(temp_best_move)\n",
    "        scores.append(eval_board(temp))\n",
    "\n",
    "    if BOARD.turn == True:\n",
    "        \n",
    "        best_move = moves[scores.index(max(scores))]\n",
    "\n",
    "    else:\n",
    "        best_move = moves[scores.index(min(scores))]\n",
    "\n",
    "    return best_move"
   ]
  },
  {
   "cell_type": "code",
   "execution_count": 6,
   "metadata": {},
   "outputs": [],
   "source": [
    "def min_maxN(BOARD,N):\n",
    "    moves = list(BOARD.legal_moves)\n",
    "    scores = []\n",
    "\n",
    "    for move in moves:\n",
    "        temp = deepcopy(BOARD)\n",
    "        temp.push(move)\n",
    "\n",
    "        if N>1:\n",
    "            temp_best_move = min_maxN(temp,N-1)\n",
    "            temp.push(temp_best_move)\n",
    "\n",
    "        scores.append(eval_board(temp))\n",
    "\n",
    "    if BOARD.turn == True:\n",
    "       \n",
    "        best_move = moves[scores.index(max(scores))]\n",
    "\n",
    "    else:\n",
    "        best_move = moves[scores.index(min(scores))]\n",
    "\n",
    "    return best_move"
   ]
  },
  {
   "cell_type": "code",
   "execution_count": 7,
   "metadata": {},
   "outputs": [],
   "source": [
    "# a simple wrapper function as the display only gives one imput , BOARD\n",
    "def play_min_maxN(BOARD):\n",
    "    N=3\n",
    "    return min_maxN(BOARD,N)"
   ]
  },
  {
   "cell_type": "code",
   "execution_count": null,
   "metadata": {},
   "outputs": [],
   "source": []
  },
  {
   "cell_type": "code",
   "execution_count": null,
   "metadata": {},
   "outputs": [],
   "source": []
  },
  {
   "cell_type": "code",
   "execution_count": null,
   "metadata": {},
   "outputs": [],
   "source": []
  }
 ],
 "metadata": {
  "kernelspec": {
   "display_name": "Python 3",
   "language": "python",
   "name": "python3"
  },
  "language_info": {
   "codemirror_mode": {
    "name": "ipython",
    "version": 3
   },
   "file_extension": ".py",
   "mimetype": "text/x-python",
   "name": "python",
   "nbconvert_exporter": "python",
   "pygments_lexer": "ipython3",
   "version": "3.7.6"
  }
 },
 "nbformat": 4,
 "nbformat_minor": 4
}
