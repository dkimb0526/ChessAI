{
 "cells": [
  {
   "cell_type": "code",
   "execution_count": 9,
   "metadata": {},
   "outputs": [],
   "source": [
    "import Chess_pieces\n",
    "import pygame\n",
    "import chess\n",
    "import math\n",
    "import random\n",
    "from copy import deepcopy\n",
    "#from AI import random_agent"
   ]
  },
  {
   "cell_type": "code",
   "execution_count": null,
   "metadata": {},
   "outputs": [],
   "source": [
    "#WORK ON HIGHLIGHTING MOVES"
   ]
  },
  {
   "cell_type": "code",
   "execution_count": 2,
   "metadata": {},
   "outputs": [],
   "source": [
    "# Resize the image to a specific size\n",
    "new_size = (90, 90)  # Set the desired size\n",
    "#names\n",
    "b_pawn = pygame.transform.scale(pygame.image.load('Chess_pieces//b_pawn.png'), new_size)\n",
    "b_knight = pygame.transform.scale(pygame.image.load('Chess_pieces//b_knight.png'), new_size)\n",
    "b_bishop = pygame.transform.scale(pygame.image.load('Chess_pieces//b_bishop.png'), new_size)\n",
    "b_rook = pygame.transform.scale(pygame.image.load('Chess_pieces//b_rook.png'), new_size)\n",
    "b_queen = pygame.transform.scale(pygame.image.load('Chess_pieces//b_queen.png'), new_size)\n",
    "b_king = pygame.transform.scale(pygame.image.load('Chess_pieces//b_king.png'), new_size)\n",
    "w_pawn = pygame.transform.scale(pygame.image.load('Chess_pieces//w_pawn.png'), new_size)\n",
    "w_knight = pygame.transform.scale(pygame.image.load('Chess_pieces//w_knight.png'), new_size)\n",
    "w_bishop = pygame.transform.scale(pygame.image.load('Chess_pieces//w_bishop.png'), new_size)\n",
    "w_rook = pygame.transform.scale(pygame.image.load('Chess_pieces//w_rook.png'), new_size)\n",
    "w_queen = pygame.transform.scale(pygame.image.load('Chess_pieces//w_queen.png'), new_size)\n",
    "w_king = pygame.transform.scale(pygame.image.load('Chess_pieces/w_king.png'), new_size)"
   ]
  },
  {
   "cell_type": "code",
   "execution_count": 3,
   "metadata": {},
   "outputs": [],
   "source": [
    "#initialise display\n",
    "X = 800\n",
    "Y = 800\n",
    "scrn = pygame.display.set_mode((X, Y))\n",
    "\n",
    "#basic colours\n",
    "WHITE = (255, 255, 255)\n",
    "GREY = (128, 128, 128)\n",
    "YELLOW = (204, 204, 0)\n",
    "BLUE = (50, 255, 255)\n",
    "BLACK = (0, 0, 0)\n",
    "\n",
    "#initialise chess board\n",
    "pygame.init()\n",
    "b = chess.Board()\n",
    "\n",
    "#load piece images\n",
    "pieces = {'p': b_pawn.convert(),\n",
    "          'n': b_knight.convert(),\n",
    "          'b': b_bishop.convert(),\n",
    "          'r': b_rook.convert(),\n",
    "          'q': b_queen.convert(),\n",
    "          'k': b_king.convert(),\n",
    "          'P': w_pawn.convert(),\n",
    "          'N': w_knight.convert(),\n",
    "          'B': w_bishop.convert(),\n",
    "          'R': w_rook.convert(),\n",
    "          'Q': w_queen.convert(),\n",
    "          #'K': pygame.image.load('Chess_pieces//w_king.png').convert(),\n",
    "          'K': w_king.convert()\n",
    "          \n",
    "          }"
   ]
  },
  {
   "cell_type": "code",
   "execution_count": 4,
   "metadata": {},
   "outputs": [],
   "source": [
    "def update(scrn, board):\n",
    "    scrn.fill(BLACK)\n",
    "\n",
    "    for i in range(64):\n",
    "        piece = board.piece_at(i)\n",
    "        if piece is None:\n",
    "            continue\n",
    "        else:\n",
    "            piece_image = pieces[piece.symbol()]\n",
    "            piece_rect = piece_image.get_rect()\n",
    "\n",
    "            # Calculate the position to center the piece\n",
    "            x = (i % 8) * 100 + (100 - piece_rect.width) // 2\n",
    "            y = 700 - (i // 8) * 100 + (100 - piece_rect.height) // 2\n",
    "\n",
    "            scrn.blit(piece_image, (x, y))\n",
    "\n",
    "    for i in range(7):\n",
    "        i = i + 1\n",
    "        pygame.draw.line(scrn, WHITE, (0, i * 100), (800, i * 100))\n",
    "        pygame.draw.line(scrn, WHITE, (i * 100, 0), (i * 100, 800))\n",
    "\n",
    "    pygame.display.flip()"
   ]
  },
  {
   "cell_type": "code",
   "execution_count": 39,
   "metadata": {},
   "outputs": [],
   "source": [
    "def main(BOARD):\n",
    "\n",
    "    '''\n",
    "    for human vs human game\n",
    "    '''\n",
    "    #make background black\n",
    "    scrn.fill(BLACK)\n",
    "    #name window\n",
    "    pygame.display.set_caption('Chess')\n",
    "    \n",
    "    #variable to be used later\n",
    "    index_moves = []\n",
    "\n",
    "    status = True\n",
    "    while (status):\n",
    "        #update screen\n",
    "        update(scrn,BOARD)\n",
    "\n",
    "        for event in pygame.event.get():\n",
    "     \n",
    "            # if event object type is QUIT\n",
    "            # then quitting the pygame\n",
    "            # and program both.\n",
    "            if event.type == pygame.QUIT:\n",
    "                status = False\n",
    "\n",
    "            # if mouse clicked\n",
    "            if event.type == pygame.MOUSEBUTTONDOWN:\n",
    "                #remove previous highlights\n",
    "                scrn.fill(BLACK)\n",
    "                #get position of mouse\n",
    "                pos = pygame.mouse.get_pos()\n",
    "\n",
    "                #find which square was clicked and index of it\n",
    "                square = (math.floor(pos[0]/100),math.floor(pos[1]/100))\n",
    "                index = (7-square[1])*8+(square[0])\n",
    "                \n",
    "                # if we are moving a piece\n",
    "                if index in index_moves: \n",
    "                    \n",
    "                    move = moves[index_moves.index(index)]\n",
    "                    \n",
    "                    BOARD.push(move)\n",
    "\n",
    "                    #reset index and moves\n",
    "                    index=None\n",
    "                    index_moves = []\n",
    "                    \n",
    "                    \n",
    "                # show possible moves\n",
    "                else:\n",
    "                    #check the square that is clicked\n",
    "                    piece = BOARD.piece_at(index)\n",
    "                    #if empty pass\n",
    "                    if piece == None:\n",
    "                        \n",
    "                        pass\n",
    "                    else:\n",
    "                        \n",
    "                        #figure out what moves this piece can make\n",
    "                        all_moves = list(BOARD.legal_moves)\n",
    "                        moves = []\n",
    "                        for m in all_moves:\n",
    "                            if m.from_square == index:\n",
    "                                \n",
    "                                moves.append(m)\n",
    "\n",
    "                                t = m.to_square\n",
    "\n",
    "                                TX1 = 100*(t%8)\n",
    "                                TY1 = 100*(7-t//8)\n",
    "\n",
    "                                \n",
    "                                #highlight squares it can move to\n",
    "                                pygame.draw.rect(scrn,BLUE,pygame.Rect(TX1,TY1,100,100),5)\n",
    "                        \n",
    "                        index_moves = [a.to_square for a in moves]\n",
    "     \n",
    "    # deactivates the pygame library\n",
    "        if BOARD.outcome() != None:\n",
    "            print(BOARD.outcome())\n",
    "            status = False\n",
    "            print(BOARD)\n",
    "    pygame.quit()"
   ]
  },
  {
   "cell_type": "code",
   "execution_count": 11,
   "metadata": {},
   "outputs": [],
   "source": [
    "scoring= {'p': -1,\n",
    "          'n': -3,\n",
    "          'b': -3,\n",
    "          'r': -5,\n",
    "          'q': -9,\n",
    "          'k': 0,\n",
    "          'P': 1,\n",
    "          'N': 3,\n",
    "          'B': 3,\n",
    "          'R': 5,\n",
    "          'Q': 9,\n",
    "          'K': 0,\n",
    "          }"
   ]
  },
  {
   "cell_type": "code",
   "execution_count": 5,
   "metadata": {},
   "outputs": [],
   "source": [
    "def eval_board(BOARD):\n",
    "    score = 0\n",
    "    pieces = BOARD.piece_map()\n",
    "    for key in pieces:\n",
    "        score += scoring[str(pieces[key])]\n",
    "\n",
    "    return score"
   ]
  },
  {
   "cell_type": "code",
   "execution_count": 6,
   "metadata": {},
   "outputs": [],
   "source": [
    "#this is min_max at depth one\n",
    "def most_value_agent(BOARD):\n",
    "\n",
    "    moves = list(BOARD.legal_moves)\n",
    "    scores = []\n",
    "    for move in moves:\n",
    "        #creates a copy of BOARD so we dont\n",
    "        #change the original class\n",
    "        temp = deepcopy(BOARD)\n",
    "        temp.push(move)\n",
    "\n",
    "        scores.append(eval_board(temp))\n",
    "\n",
    "    if BOARD.turn == True:\n",
    "        best_move = moves[scores.index(max(scores))]\n",
    "\n",
    "    else:\n",
    "        best_move = moves[scores.index(min(scores))]\n",
    "\n",
    "    return best_move"
   ]
  },
  {
   "cell_type": "code",
   "execution_count": null,
   "metadata": {},
   "outputs": [],
   "source": []
  },
  {
   "cell_type": "code",
   "execution_count": 105,
   "metadata": {},
   "outputs": [],
   "source": [
    "def random_agent(board):\n",
    "    legal_moves = list(board.legal_moves)\n",
    "    move = random.choice(legal_moves)\n",
    "    return move\n"
   ]
  },
  {
   "cell_type": "code",
   "execution_count": 7,
   "metadata": {},
   "outputs": [],
   "source": [
    "def play_game(board, agent, agent_color):\n",
    "    index_moves = []\n",
    "    # Main game loop\n",
    "    while True:\n",
    "        # Update the screen\n",
    "        update(scrn, board)\n",
    "\n",
    "        # Check for game over conditions\n",
    "        if board.is_game_over():\n",
    "            print(\"Game Over\")\n",
    "            print(\"Result: \" + board.result())\n",
    "            break\n",
    "\n",
    "        # Agent's turn\n",
    "        if board.turn == agent_color:\n",
    "            move = agent(board)  # Generate a move using the agent function\n",
    "            board.push(move)  # Push the generated move to the board\n",
    "            pygame.time.wait(500)  # Delay for visualization (optional)\n",
    "\n",
    "        # Human player's turn\n",
    "        else:\n",
    "            for event in pygame.event.get():\n",
    "                if event.type == pygame.QUIT:\n",
    "                    pygame.quit()\n",
    "                    return\n",
    "\n",
    "                if event.type == pygame.MOUSEBUTTONDOWN:\n",
    "                    pos = pygame.mouse.get_pos()\n",
    "                    square = (math.floor(pos[0] / 100), math.floor(pos[1] / 100))\n",
    "                    index = chess.square(square[0], 7 - square[1])\n",
    "\n",
    "                    if index in index_moves:\n",
    "                        move = moves[index_moves.index(index)]\n",
    "                        board.push(move)\n",
    "                        index_moves = []\n",
    "                    else:\n",
    "                        piece = board.piece_at(index)\n",
    "                        if piece is not None:\n",
    "                            all_moves = list(board.legal_moves)\n",
    "                            moves = []\n",
    "                            for m in all_moves:\n",
    "                                if m.from_square == index:\n",
    "                                    moves.append(m)\n",
    "                                    t = m.to_square\n",
    "                                    TX1 = 100 * (chess.square_file(t))\n",
    "                                    TY1 = 100 * (7 - chess.square_rank(t))\n",
    "                                    pygame.draw.rect(scrn, BLUE, pygame.Rect(TX1, TY1, 100, 100), 5)\n",
    "                            index_moves = [a.to_square for a in moves]\n",
    "\n"
   ]
  },
  {
   "cell_type": "code",
   "execution_count": 12,
   "metadata": {
    "scrolled": true
   },
   "outputs": [],
   "source": [
    "play_game(b, most_value_agent, chess.WHITE)"
   ]
  },
  {
   "cell_type": "code",
   "execution_count": 27,
   "metadata": {},
   "outputs": [],
   "source": [
    "b.push(list(b.legal_moves)[0])"
   ]
  },
  {
   "cell_type": "code",
   "execution_count": null,
   "metadata": {},
   "outputs": [],
   "source": [
    "b.legal_moves"
   ]
  },
  {
   "cell_type": "code",
   "execution_count": 100,
   "metadata": {},
   "outputs": [],
   "source": [
    "pygame.quit()"
   ]
  },
  {
   "cell_type": "code",
   "execution_count": 72,
   "metadata": {},
   "outputs": [],
   "source": [
    "scrn = pygame.display.set_mode((X, Y))"
   ]
  },
  {
   "cell_type": "code",
   "execution_count": 2,
   "metadata": {},
   "outputs": [
    {
     "data": {
      "text/plain": [
       "False"
      ]
     },
     "execution_count": 2,
     "metadata": {},
     "output_type": "execute_result"
    }
   ],
   "source": [
    "True == False"
   ]
  },
  {
   "cell_type": "code",
   "execution_count": 10,
   "metadata": {},
   "outputs": [],
   "source": [
    "\n",
    "\n",
    "def main_two_agent(BOARD,agent1,agent_color1,agent2):\n",
    "    '''\n",
    "    for agent vs agent game\n",
    "    \n",
    "    '''\n",
    "  \n",
    "    #make background black\n",
    "    scrn.fill(BLACK)\n",
    "    #name window\n",
    "    pygame.display.set_caption('Chess')\n",
    "    \n",
    "    #variable to be used later\n",
    "\n",
    "    status = True\n",
    "    while (status):\n",
    "        #update screen\n",
    "        update(scrn,BOARD)\n",
    "        \n",
    "        if BOARD.turn==agent_color1:\n",
    "            BOARD.push(agent1(BOARD))\n",
    "\n",
    "        else:\n",
    "            BOARD.push(agent2(BOARD))\n",
    "\n",
    "        scrn.fill(BLACK)\n",
    "            \n",
    "        for event in pygame.event.get():\n",
    "     \n",
    "            # if event object type is QUIT\n",
    "            # then quitting the pygame\n",
    "            # and program both.\n",
    "            if event.type == pygame.QUIT:\n",
    "                status = False\n",
    "     \n",
    "    # deactivates the pygame library\n",
    "        if BOARD.outcome() != None:\n",
    "            print(BOARD.outcome())\n",
    "            status = False\n",
    "            print(BOARD)\n",
    "    pygame.quit()"
   ]
  },
  {
   "cell_type": "code",
   "execution_count": 11,
   "metadata": {},
   "outputs": [],
   "source": []
  },
  {
   "cell_type": "code",
   "execution_count": null,
   "metadata": {},
   "outputs": [],
   "source": []
  },
  {
   "cell_type": "code",
   "execution_count": null,
   "metadata": {},
   "outputs": [],
   "source": []
  }
 ],
 "metadata": {
  "kernelspec": {
   "display_name": "Python 3",
   "language": "python",
   "name": "python3"
  },
  "language_info": {
   "codemirror_mode": {
    "name": "ipython",
    "version": 3
   },
   "file_extension": ".py",
   "mimetype": "text/x-python",
   "name": "python",
   "nbconvert_exporter": "python",
   "pygments_lexer": "ipython3",
   "version": "3.7.6"
  }
 },
 "nbformat": 4,
 "nbformat_minor": 4
}
