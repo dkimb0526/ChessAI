{
 "cells": [
  {
   "cell_type": "code",
   "execution_count": 1,
   "metadata": {},
   "outputs": [
    {
     "name": "stdout",
     "output_type": "stream",
     "text": [
      "pygame 2.4.0 (SDL 2.26.4, Python 3.7.6)\n",
      "Hello from the pygame community. https://www.pygame.org/contribute.html\n"
     ]
    }
   ],
   "source": [
    "import Chess_pieces\n",
    "import pygame\n",
    "import chess\n",
    "import math\n",
    "from AI import random_agent"
   ]
  },
  {
   "cell_type": "code",
   "execution_count": 2,
   "metadata": {},
   "outputs": [],
   "source": [
    "# Resize the image to a specific size\n",
    "new_size = (90, 90)  # Set the desired size\n",
    "#names\n",
    "b_pawn = pygame.transform.scale(pygame.image.load('Chess_pieces//b_pawn.png'), new_size)\n",
    "b_knight = pygame.transform.scale(pygame.image.load('Chess_pieces//b_knight.png'), new_size)\n",
    "b_bishop = pygame.transform.scale(pygame.image.load('Chess_pieces//b_bishop.png'), new_size)\n",
    "b_rook = pygame.transform.scale(pygame.image.load('Chess_pieces//b_rook.png'), new_size)\n",
    "b_queen = pygame.transform.scale(pygame.image.load('Chess_pieces//b_queen.png'), new_size)\n",
    "b_king = pygame.transform.scale(pygame.image.load('Chess_pieces//b_king.png'), new_size)\n",
    "w_pawn = pygame.transform.scale(pygame.image.load('Chess_pieces//w_pawn.png'), new_size)\n",
    "w_knight = pygame.transform.scale(pygame.image.load('Chess_pieces//w_knight.png'), new_size)\n",
    "w_bishop = pygame.transform.scale(pygame.image.load('Chess_pieces//w_bishop.png'), new_size)\n",
    "w_rook = pygame.transform.scale(pygame.image.load('Chess_pieces//w_rook.png'), new_size)\n",
    "w_queen = pygame.transform.scale(pygame.image.load('Chess_pieces//w_queen.png'), new_size)\n",
    "w_king = pygame.transform.scale(pygame.image.load('Chess_pieces/w_king.png'), new_size)"
   ]
  },
  {
   "cell_type": "code",
   "execution_count": 3,
   "metadata": {},
   "outputs": [],
   "source": [
    "#initialise display\n",
    "X = 800\n",
    "Y = 800\n",
    "scrn = pygame.display.set_mode((X, Y))\n",
    "\n",
    "#basic colours\n",
    "WHITE = (255, 255, 255)\n",
    "GREY = (128, 128, 128)\n",
    "YELLOW = (204, 204, 0)\n",
    "BLUE = (50, 255, 255)\n",
    "BLACK = (0, 0, 0)\n",
    "\n",
    "#initialise chess board\n",
    "pygame.init()\n",
    "b = chess.Board()\n",
    "\n",
    "#load piece images\n",
    "pieces = {'p': b_pawn.convert(),\n",
    "          'n': b_knight.convert(),\n",
    "          'b': b_bishop.convert(),\n",
    "          'r': b_rook.convert(),\n",
    "          'q': b_queen.convert(),\n",
    "          'k': b_king.convert(),\n",
    "          'P': w_pawn.convert(),\n",
    "          'N': w_knight.convert(),\n",
    "          'B': w_bishop.convert(),\n",
    "          'R': w_rook.convert(),\n",
    "          'Q': w_queen.convert(),\n",
    "          #'K': pygame.image.load('Chess_pieces//w_king.png').convert(),\n",
    "          'K': w_king.convert()\n",
    "          \n",
    "          }"
   ]
  },
  {
   "cell_type": "code",
   "execution_count": 4,
   "metadata": {},
   "outputs": [],
   "source": [
    "def update(scrn, board):\n",
    "    '''\n",
    "    Updates the screen based on the board class\n",
    "    '''\n",
    "\n",
    "    for i in range(64):\n",
    "        piece = board.piece_at(i)\n",
    "        if piece is None:\n",
    "            continue\n",
    "        else:\n",
    "            piece_image = pieces[str(piece)]\n",
    "            piece_rect = piece_image.get_rect()\n",
    "\n",
    "            # Calculate the position to center the piece\n",
    "            x = (i % 8) * 100 + (100 - piece_rect.width) // 2\n",
    "            y = 700 - (i // 8) * 100 + (100 - piece_rect.height) // 2\n",
    "\n",
    "            scrn.blit(piece_image, (x, y))\n",
    "\n",
    "    for i in range(7):\n",
    "        i = i + 1\n",
    "        pygame.draw.line(scrn, WHITE, (0, i * 100), (800, i * 100))\n",
    "        pygame.draw.line(scrn, WHITE, (i * 100, 0), (i * 100, 800))\n",
    "\n",
    "    pygame.display.flip()"
   ]
  },
  {
   "cell_type": "code",
   "execution_count": 5,
   "metadata": {},
   "outputs": [],
   "source": [
    "def main(BOARD):\n",
    "\n",
    "    '''\n",
    "    for human vs human game\n",
    "    '''\n",
    "    #make background black\n",
    "    scrn.fill(BLACK)\n",
    "    #name window\n",
    "    pygame.display.set_caption('Chess')\n",
    "    \n",
    "    #variable to be used later\n",
    "    index_moves = []\n",
    "\n",
    "    status = True\n",
    "    while (status):\n",
    "        #update screen\n",
    "        update(scrn,BOARD)\n",
    "\n",
    "        for event in pygame.event.get():\n",
    "     \n",
    "            # if event object type is QUIT\n",
    "            # then quitting the pygame\n",
    "            # and program both.\n",
    "            if event.type == pygame.QUIT:\n",
    "                status = False\n",
    "\n",
    "            # if mouse clicked\n",
    "            if event.type == pygame.MOUSEBUTTONDOWN:\n",
    "                #remove previous highlights\n",
    "                scrn.fill(BLACK)\n",
    "                #get position of mouse\n",
    "                pos = pygame.mouse.get_pos()\n",
    "\n",
    "                #find which square was clicked and index of it\n",
    "                square = (math.floor(pos[0]/100),math.floor(pos[1]/100))\n",
    "                index = (7-square[1])*8+(square[0])\n",
    "                \n",
    "                # if we are moving a piece\n",
    "                if index in index_moves: \n",
    "                    \n",
    "                    move = moves[index_moves.index(index)]\n",
    "                    \n",
    "                    BOARD.push(move)\n",
    "\n",
    "                    #reset index and moves\n",
    "                    index=None\n",
    "                    index_moves = []\n",
    "                    \n",
    "                    \n",
    "                # show possible moves\n",
    "                else:\n",
    "                    #check the square that is clicked\n",
    "                    piece = BOARD.piece_at(index)\n",
    "                    #if empty pass\n",
    "                    if piece == None:\n",
    "                        \n",
    "                        pass\n",
    "                    else:\n",
    "                        \n",
    "                        #figure out what moves this piece can make\n",
    "                        all_moves = list(BOARD.legal_moves)\n",
    "                        moves = []\n",
    "                        for m in all_moves:\n",
    "                            if m.from_square == index:\n",
    "                                \n",
    "                                moves.append(m)\n",
    "\n",
    "                                t = m.to_square\n",
    "\n",
    "                                TX1 = 100*(t%8)\n",
    "                                TY1 = 100*(7-t//8)\n",
    "\n",
    "                                \n",
    "                                #highlight squares it can move to\n",
    "                                pygame.draw.rect(scrn,BLUE,pygame.Rect(TX1,TY1,100,100),5)\n",
    "                        \n",
    "                        index_moves = [a.to_square for a in moves]\n",
    "     \n",
    "    # deactivates the pygame library\n",
    "        if BOARD.outcome() != None:\n",
    "            print(BOARD.outcome())\n",
    "            status = False\n",
    "            print(BOARD)\n",
    "    pygame.quit()"
   ]
  },
  {
   "cell_type": "code",
   "execution_count": 7,
   "metadata": {},
   "outputs": [],
   "source": [
    "\n",
    "\n",
    "main(b)"
   ]
  },
  {
   "cell_type": "code",
   "execution_count": 9,
   "metadata": {},
   "outputs": [
    {
     "data": {
      "text/plain": [
       "True"
      ]
     },
     "execution_count": 9,
     "metadata": {},
     "output_type": "execute_result"
    }
   ],
   "source": []
  },
  {
   "cell_type": "code",
   "execution_count": 13,
   "metadata": {},
   "outputs": [
    {
     "ename": "TypeError",
     "evalue": "push() missing 1 required positional argument: 'move'",
     "output_type": "error",
     "traceback": [
      "\u001b[1;31m---------------------------------------------------------------------------\u001b[0m",
      "\u001b[1;31mTypeError\u001b[0m                                 Traceback (most recent call last)",
      "\u001b[1;32m<ipython-input-13-f83e6b512607>\u001b[0m in \u001b[0;36m<module>\u001b[1;34m\u001b[0m\n\u001b[1;32m----> 1\u001b[1;33m \u001b[0mb\u001b[0m\u001b[1;33m.\u001b[0m\u001b[0mpush\u001b[0m\u001b[1;33m(\u001b[0m\u001b[1;33m)\u001b[0m\u001b[1;33m\u001b[0m\u001b[1;33m\u001b[0m\u001b[0m\n\u001b[0m",
      "\u001b[1;31mTypeError\u001b[0m: push() missing 1 required positional argument: 'move'"
     ]
    }
   ],
   "source": [
    "b.push()"
   ]
  },
  {
   "cell_type": "code",
   "execution_count": null,
   "metadata": {},
   "outputs": [],
   "source": []
  },
  {
   "cell_type": "code",
   "execution_count": null,
   "metadata": {},
   "outputs": [],
   "source": []
  },
  {
   "cell_type": "code",
   "execution_count": 5,
   "metadata": {},
   "outputs": [],
   "source": [
    "\n",
    "\n",
    "def main_one_agent(BOARD,agent,agent_color):\n",
    "    \n",
    "    '''\n",
    "    for agent vs human game\n",
    "    color is True = White agent\n",
    "    color is False = Black agent\n",
    "    '''\n",
    "    \n",
    "    #make background black\n",
    "    scrn.fill(BLACK)\n",
    "    #name window\n",
    "    pygame.display.set_caption('Chess')\n",
    "    \n",
    "    #variable to be used later\n",
    "    index_moves = []\n",
    "\n",
    "    status = True\n",
    "    while (status):\n",
    "        #update screen\n",
    "        update(scrn,BOARD)\n",
    "        \n",
    "     \n",
    "        if BOARD.turn==agent_color:\n",
    "            #BOARD.push(agent(BOARD))\n",
    "            BOARD.push(agent)\n",
    "            scrn.fill(BLACK)\n",
    "\n",
    "        else:\n",
    "\n",
    "            for event in pygame.event.get():\n",
    "         \n",
    "                # if event object type is QUIT\n",
    "                # then quitting the pygame\n",
    "                # and program both.\n",
    "                if event.type == pygame.QUIT:\n",
    "                    status = False\n",
    "\n",
    "                # if mouse clicked\n",
    "                if event.type == pygame.MOUSEBUTTONDOWN:\n",
    "                    #reset previous screen from clicks\n",
    "                    scrn.fill(BLACK)\n",
    "                    #get position of mouse\n",
    "                    pos = pygame.mouse.get_pos()\n",
    "\n",
    "                    #find which square was clicked and index of it\n",
    "                    square = (math.floor(pos[0]/100),math.floor(pos[1]/100))\n",
    "                    index = (7-square[1])*8+(square[0])\n",
    "                    \n",
    "                    # if we have already highlighted moves and are making a move\n",
    "                    if index in index_moves: \n",
    "                        \n",
    "                        move = moves[index_moves.index(index)]\n",
    "                        #print(BOARD)\n",
    "                        #print(move)\n",
    "                        BOARD.push(move)\n",
    "                        index=None\n",
    "                        index_moves = []\n",
    "                        \n",
    "                    # show possible moves\n",
    "                    else:\n",
    "                        \n",
    "                        piece = BOARD.piece_at(index)\n",
    "                        \n",
    "                        if piece == None:\n",
    "                            \n",
    "                            pass\n",
    "                        else:\n",
    "\n",
    "                            all_moves = list(BOARD.legal_moves)\n",
    "                            moves = []\n",
    "                            for m in all_moves:\n",
    "                                if m.from_square == index:\n",
    "                                    \n",
    "                                    moves.append(m)\n",
    "\n",
    "                                    t = m.to_square\n",
    "\n",
    "                                    TX1 = 100*(t%8)\n",
    "                                    TY1 = 100*(7-t//8)\n",
    "\n",
    "                                    \n",
    "                                    pygame.draw.rect(scrn,BLUE,pygame.Rect(TX1,TY1,100,100),5)\n",
    "                            #print(moves)\n",
    "                            index_moves = [a.to_square for a in moves]\n",
    "     \n",
    "    # deactivates the pygame library\n",
    "        if BOARD.outcome() != None:\n",
    "            print(BOARD.outcome())\n",
    "            status = False\n",
    "            print(BOARD)\n",
    "    pygame.quit()"
   ]
  },
  {
   "cell_type": "code",
   "execution_count": 10,
   "metadata": {
    "scrolled": true
   },
   "outputs": [
    {
     "ename": "AssertionError",
     "evalue": "push() expects move to be pseudo-legal, but got d2d3 in rnbqkbnr/ppppp2p/8/5pp1/8/3P3N/PPP1PPPP/RNBQKB1R",
     "output_type": "error",
     "traceback": [
      "\u001b[1;31m---------------------------------------------------------------------------\u001b[0m",
      "\u001b[1;31mAssertionError\u001b[0m                            Traceback (most recent call last)",
      "\u001b[1;32m<ipython-input-10-7e228fd77022>\u001b[0m in \u001b[0;36m<module>\u001b[1;34m\u001b[0m\n\u001b[1;32m----> 1\u001b[1;33m \u001b[0mmain_one_agent\u001b[0m\u001b[1;33m(\u001b[0m\u001b[0mb\u001b[0m\u001b[1;33m,\u001b[0m \u001b[0mrandom_agent\u001b[0m\u001b[1;33m(\u001b[0m\u001b[0mb\u001b[0m\u001b[1;33m)\u001b[0m\u001b[1;33m,\u001b[0m \u001b[1;32mTrue\u001b[0m\u001b[1;33m)\u001b[0m\u001b[1;33m\u001b[0m\u001b[1;33m\u001b[0m\u001b[0m\n\u001b[0m",
      "\u001b[1;32m<ipython-input-5-c8e1bb846c05>\u001b[0m in \u001b[0;36mmain_one_agent\u001b[1;34m(BOARD, agent, agent_color)\u001b[0m\n\u001b[0;32m     23\u001b[0m         \u001b[1;32mif\u001b[0m \u001b[0mBOARD\u001b[0m\u001b[1;33m.\u001b[0m\u001b[0mturn\u001b[0m\u001b[1;33m==\u001b[0m\u001b[0magent_color\u001b[0m\u001b[1;33m:\u001b[0m\u001b[1;33m\u001b[0m\u001b[1;33m\u001b[0m\u001b[0m\n\u001b[0;32m     24\u001b[0m             \u001b[1;31m#BOARD.push(agent(BOARD))\u001b[0m\u001b[1;33m\u001b[0m\u001b[1;33m\u001b[0m\u001b[1;33m\u001b[0m\u001b[0m\n\u001b[1;32m---> 25\u001b[1;33m             \u001b[0mBOARD\u001b[0m\u001b[1;33m.\u001b[0m\u001b[0mpush\u001b[0m\u001b[1;33m(\u001b[0m\u001b[0magent\u001b[0m\u001b[1;33m)\u001b[0m\u001b[1;33m\u001b[0m\u001b[1;33m\u001b[0m\u001b[0m\n\u001b[0m\u001b[0;32m     26\u001b[0m             \u001b[0mscrn\u001b[0m\u001b[1;33m.\u001b[0m\u001b[0mfill\u001b[0m\u001b[1;33m(\u001b[0m\u001b[0mBLACK\u001b[0m\u001b[1;33m)\u001b[0m\u001b[1;33m\u001b[0m\u001b[1;33m\u001b[0m\u001b[0m\n\u001b[0;32m     27\u001b[0m \u001b[1;33m\u001b[0m\u001b[0m\n",
      "\u001b[1;32m~\\anaconda3\\lib\\site-packages\\chess\\__init__.py\u001b[0m in \u001b[0;36mpush\u001b[1;34m(self, move)\u001b[0m\n\u001b[0;32m   2233\u001b[0m         \u001b[0mpromoted\u001b[0m \u001b[1;33m=\u001b[0m \u001b[0mbool\u001b[0m\u001b[1;33m(\u001b[0m\u001b[0mself\u001b[0m\u001b[1;33m.\u001b[0m\u001b[0mpromoted\u001b[0m \u001b[1;33m&\u001b[0m \u001b[0mfrom_bb\u001b[0m\u001b[1;33m)\u001b[0m\u001b[1;33m\u001b[0m\u001b[1;33m\u001b[0m\u001b[0m\n\u001b[0;32m   2234\u001b[0m         \u001b[0mpiece_type\u001b[0m \u001b[1;33m=\u001b[0m \u001b[0mself\u001b[0m\u001b[1;33m.\u001b[0m\u001b[0m_remove_piece_at\u001b[0m\u001b[1;33m(\u001b[0m\u001b[0mmove\u001b[0m\u001b[1;33m.\u001b[0m\u001b[0mfrom_square\u001b[0m\u001b[1;33m)\u001b[0m\u001b[1;33m\u001b[0m\u001b[1;33m\u001b[0m\u001b[0m\n\u001b[1;32m-> 2235\u001b[1;33m         \u001b[1;32massert\u001b[0m \u001b[0mpiece_type\u001b[0m \u001b[1;32mis\u001b[0m \u001b[1;32mnot\u001b[0m \u001b[1;32mNone\u001b[0m\u001b[1;33m,\u001b[0m \u001b[1;34mf\"push() expects move to be pseudo-legal, but got {move} in {self.board_fen()}\"\u001b[0m\u001b[1;33m\u001b[0m\u001b[1;33m\u001b[0m\u001b[0m\n\u001b[0m\u001b[0;32m   2236\u001b[0m         \u001b[0mcapture_square\u001b[0m \u001b[1;33m=\u001b[0m \u001b[0mmove\u001b[0m\u001b[1;33m.\u001b[0m\u001b[0mto_square\u001b[0m\u001b[1;33m\u001b[0m\u001b[1;33m\u001b[0m\u001b[0m\n\u001b[0;32m   2237\u001b[0m         \u001b[0mcaptured_piece_type\u001b[0m \u001b[1;33m=\u001b[0m \u001b[0mself\u001b[0m\u001b[1;33m.\u001b[0m\u001b[0mpiece_type_at\u001b[0m\u001b[1;33m(\u001b[0m\u001b[0mcapture_square\u001b[0m\u001b[1;33m)\u001b[0m\u001b[1;33m\u001b[0m\u001b[1;33m\u001b[0m\u001b[0m\n",
      "\u001b[1;31mAssertionError\u001b[0m: push() expects move to be pseudo-legal, but got d2d3 in rnbqkbnr/ppppp2p/8/5pp1/8/3P3N/PPP1PPPP/RNBQKB1R"
     ]
    }
   ],
   "source": [
    "main_one_agent(b, random_agent(b), True)"
   ]
  },
  {
   "cell_type": "code",
   "execution_count": 11,
   "metadata": {},
   "outputs": [],
   "source": [
    "pygame.quit()"
   ]
  },
  {
   "cell_type": "code",
   "execution_count": 9,
   "metadata": {},
   "outputs": [],
   "source": [
    "scrn = pygame.display.set_mode((X, Y))"
   ]
  },
  {
   "cell_type": "code",
   "execution_count": 2,
   "metadata": {},
   "outputs": [
    {
     "data": {
      "text/plain": [
       "False"
      ]
     },
     "execution_count": 2,
     "metadata": {},
     "output_type": "execute_result"
    }
   ],
   "source": [
    "True == False"
   ]
  },
  {
   "cell_type": "code",
   "execution_count": 10,
   "metadata": {},
   "outputs": [],
   "source": [
    "\n",
    "\n",
    "def main_two_agent(BOARD,agent1,agent_color1,agent2):\n",
    "    '''\n",
    "    for agent vs agent game\n",
    "    \n",
    "    '''\n",
    "  \n",
    "    #make background black\n",
    "    scrn.fill(BLACK)\n",
    "    #name window\n",
    "    pygame.display.set_caption('Chess')\n",
    "    \n",
    "    #variable to be used later\n",
    "\n",
    "    status = True\n",
    "    while (status):\n",
    "        #update screen\n",
    "        update(scrn,BOARD)\n",
    "        \n",
    "        if BOARD.turn==agent_color1:\n",
    "            BOARD.push(agent1(BOARD))\n",
    "\n",
    "        else:\n",
    "            BOARD.push(agent2(BOARD))\n",
    "\n",
    "        scrn.fill(BLACK)\n",
    "            \n",
    "        for event in pygame.event.get():\n",
    "     \n",
    "            # if event object type is QUIT\n",
    "            # then quitting the pygame\n",
    "            # and program both.\n",
    "            if event.type == pygame.QUIT:\n",
    "                status = False\n",
    "     \n",
    "    # deactivates the pygame library\n",
    "        if BOARD.outcome() != None:\n",
    "            print(BOARD.outcome())\n",
    "            status = False\n",
    "            print(BOARD)\n",
    "    pygame.quit()"
   ]
  },
  {
   "cell_type": "code",
   "execution_count": 11,
   "metadata": {},
   "outputs": [],
   "source": []
  },
  {
   "cell_type": "code",
   "execution_count": null,
   "metadata": {},
   "outputs": [],
   "source": []
  },
  {
   "cell_type": "code",
   "execution_count": null,
   "metadata": {},
   "outputs": [],
   "source": []
  }
 ],
 "metadata": {
  "kernelspec": {
   "display_name": "Python 3",
   "language": "python",
   "name": "python3"
  },
  "language_info": {
   "codemirror_mode": {
    "name": "ipython",
    "version": 3
   },
   "file_extension": ".py",
   "mimetype": "text/x-python",
   "name": "python",
   "nbconvert_exporter": "python",
   "pygments_lexer": "ipython3",
   "version": "3.7.6"
  }
 },
 "nbformat": 4,
 "nbformat_minor": 4
}
