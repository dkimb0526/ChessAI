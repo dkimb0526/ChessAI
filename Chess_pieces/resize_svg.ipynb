{
 "cells": [
  {
   "cell_type": "code",
   "execution_count": 10,
   "metadata": {},
   "outputs": [],
   "source": [
    "from PIL import Image"
   ]
  },
  {
   "cell_type": "code",
   "execution_count": null,
   "metadata": {},
   "outputs": [],
   "source": [
    "from PIL import Image\n",
    "\n",
    "# Open the original image\n",
    "image = Image.open('b_king_test.png')\n",
    "\n",
    "# Define the desired size for enlargement\n",
    "new_size = (200, 200)\n",
    "\n",
    "# Resize the original image\n",
    "resized_image = image.resize(new_size)\n",
    "\n",
    "# Create a new blank image with the desired size\n",
    "enlarged_image = Image.new('RGBA', new_size, (255, 255, 255, 0))\n",
    "\n",
    "# Paste the resized image onto the new blank image\n",
    "enlarged_image.paste(resized_image, (0, 0))\n",
    "\n",
    "# Save the enlarged image to a file\n",
    "enlarged_image.save('enlarged_b_king.png')"
   ]
  }
 ],
 "metadata": {
  "kernelspec": {
   "display_name": "Python 3",
   "language": "python",
   "name": "python3"
  },
  "language_info": {
   "codemirror_mode": {
    "name": "ipython",
    "version": 3
   },
   "file_extension": ".py",
   "mimetype": "text/x-python",
   "name": "python",
   "nbconvert_exporter": "python",
   "pygments_lexer": "ipython3",
   "version": "3.7.6"
  }
 },
 "nbformat": 4,
 "nbformat_minor": 4
}
